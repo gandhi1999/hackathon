{
 "cells": [
  {
   "cell_type": "markdown",
   "metadata": {},
   "source": [
    "# # DECODE 11.3 HACKATHON\n",
    " \n",
    "# DONE BY - SIRIVESHI GANDHI"
   ]
  },
  {
   "cell_type": "code",
   "execution_count": 4,
   "metadata": {},
   "outputs": [],
   "source": [
    "#importing the required libraries\n",
    "import pandas as pd\n",
    "import numpy as np\n",
    "import matplotlib.pyplot as plt\n",
    "import seaborn as sns\n"
   ]
  },
  {
   "cell_type": "code",
   "execution_count": 5,
   "metadata": {},
   "outputs": [],
   "source": [
    "#loading the data into the dataframe\n",
    "data=pd.read_csv(\"C:/Datasets/dataset1.csv\")"
   ]
  },
  {
   "cell_type": "code",
   "execution_count": 6,
   "metadata": {},
   "outputs": [
    {
     "data": {
      "text/plain": [
       "Index(['Ticket Id', 'Student or WP', 'Program Name', 'Status (Ticket)',\n",
       "       'Created Time (Ticket)', 'Ticket Closed Time', 'First Response Time',\n",
       "       'Project Phase'],\n",
       "      dtype='object')"
      ]
     },
     "execution_count": 6,
     "metadata": {},
     "output_type": "execute_result"
    }
   ],
   "source": [
    "data.columns"
   ]
  },
  {
   "cell_type": "code",
   "execution_count": 8,
   "metadata": {},
   "outputs": [
    {
     "data": {
      "text/html": [
       "<div>\n",
       "<style scoped>\n",
       "    .dataframe tbody tr th:only-of-type {\n",
       "        vertical-align: middle;\n",
       "    }\n",
       "\n",
       "    .dataframe tbody tr th {\n",
       "        vertical-align: top;\n",
       "    }\n",
       "\n",
       "    .dataframe thead th {\n",
       "        text-align: right;\n",
       "    }\n",
       "</style>\n",
       "<table border=\"1\" class=\"dataframe\">\n",
       "  <thead>\n",
       "    <tr style=\"text-align: right;\">\n",
       "      <th></th>\n",
       "      <th>Ticket Id</th>\n",
       "      <th>Student or WP</th>\n",
       "      <th>Program Name</th>\n",
       "      <th>Status (Ticket)</th>\n",
       "      <th>Created Time (Ticket)</th>\n",
       "      <th>Ticket Closed Time</th>\n",
       "      <th>First Response Time</th>\n",
       "      <th>Project Phase</th>\n",
       "    </tr>\n",
       "  </thead>\n",
       "  <tbody>\n",
       "    <tr>\n",
       "      <th>0</th>\n",
       "      <td>6403</td>\n",
       "      <td>Working Professionals</td>\n",
       "      <td>Fullstack Program</td>\n",
       "      <td>Closed</td>\n",
       "      <td>14-05-2021 1.09</td>\n",
       "      <td>14-05-2021 19.04</td>\n",
       "      <td>14-05-2021 8.51</td>\n",
       "      <td>trial phase</td>\n",
       "    </tr>\n",
       "    <tr>\n",
       "      <th>1</th>\n",
       "      <td>6415</td>\n",
       "      <td>Working Professionals</td>\n",
       "      <td>Backend Program</td>\n",
       "      <td>Duplicate</td>\n",
       "      <td>14-05-2021 10.12</td>\n",
       "      <td>14-05-2021 11.23</td>\n",
       "      <td>NaN</td>\n",
       "      <td>trial phase</td>\n",
       "    </tr>\n",
       "    <tr>\n",
       "      <th>2</th>\n",
       "      <td>6420</td>\n",
       "      <td>Working Professionals</td>\n",
       "      <td>Fullstack Program</td>\n",
       "      <td>Closed</td>\n",
       "      <td>14-05-2021 11.46</td>\n",
       "      <td>16-05-2021 0.09</td>\n",
       "      <td>14-05-2021 18.14</td>\n",
       "      <td>trial phase</td>\n",
       "    </tr>\n",
       "    <tr>\n",
       "      <th>3</th>\n",
       "      <td>6402</td>\n",
       "      <td>Student</td>\n",
       "      <td>Fullstack Program</td>\n",
       "      <td>Closed</td>\n",
       "      <td>14-05-2021 1.08</td>\n",
       "      <td>14-05-2021 19.04</td>\n",
       "      <td>14-05-2021 14.45</td>\n",
       "      <td>fullstack-phase-1</td>\n",
       "    </tr>\n",
       "    <tr>\n",
       "      <th>4</th>\n",
       "      <td>6423</td>\n",
       "      <td>Working Professionals</td>\n",
       "      <td>Fellowship Program</td>\n",
       "      <td>Closed</td>\n",
       "      <td>14-05-2021 12.17</td>\n",
       "      <td>14-05-2021 20.39</td>\n",
       "      <td>14-05-2021 12.21</td>\n",
       "      <td>trial phase</td>\n",
       "    </tr>\n",
       "  </tbody>\n",
       "</table>\n",
       "</div>"
      ],
      "text/plain": [
       "   Ticket Id          Student or WP        Program Name Status (Ticket)  \\\n",
       "0       6403  Working Professionals   Fullstack Program          Closed   \n",
       "1       6415  Working Professionals     Backend Program       Duplicate   \n",
       "2       6420  Working Professionals   Fullstack Program          Closed   \n",
       "3       6402                Student   Fullstack Program          Closed   \n",
       "4       6423  Working Professionals  Fellowship Program          Closed   \n",
       "\n",
       "  Created Time (Ticket) Ticket Closed Time First Response Time  \\\n",
       "0       14-05-2021 1.09   14-05-2021 19.04     14-05-2021 8.51   \n",
       "1      14-05-2021 10.12   14-05-2021 11.23                 NaN   \n",
       "2      14-05-2021 11.46    16-05-2021 0.09    14-05-2021 18.14   \n",
       "3       14-05-2021 1.08   14-05-2021 19.04    14-05-2021 14.45   \n",
       "4      14-05-2021 12.17   14-05-2021 20.39    14-05-2021 12.21   \n",
       "\n",
       "       Project Phase  \n",
       "0        trial phase  \n",
       "1        trial phase  \n",
       "2        trial phase  \n",
       "3  fullstack-phase-1  \n",
       "4        trial phase  "
      ]
     },
     "execution_count": 8,
     "metadata": {},
     "output_type": "execute_result"
    }
   ],
   "source": [
    "data.head()"
   ]
  },
  {
   "cell_type": "code",
   "execution_count": 9,
   "metadata": {},
   "outputs": [
    {
     "name": "stdout",
     "output_type": "stream",
     "text": [
      "<class 'pandas.core.frame.DataFrame'>\n",
      "RangeIndex: 476 entries, 0 to 475\n",
      "Data columns (total 8 columns):\n",
      " #   Column                 Non-Null Count  Dtype \n",
      "---  ------                 --------------  ----- \n",
      " 0   Ticket Id              476 non-null    int64 \n",
      " 1   Student or WP          476 non-null    object\n",
      " 2   Program Name           476 non-null    object\n",
      " 3   Status (Ticket)        476 non-null    object\n",
      " 4   Created Time (Ticket)  476 non-null    object\n",
      " 5   Ticket Closed Time     468 non-null    object\n",
      " 6   First Response Time    366 non-null    object\n",
      " 7   Project Phase          476 non-null    object\n",
      "dtypes: int64(1), object(7)\n",
      "memory usage: 16.8+ KB\n"
     ]
    }
   ],
   "source": [
    "#Getting the information of the data \n",
    "data.info()"
   ]
  },
  {
   "cell_type": "markdown",
   "metadata": {},
   "source": [
    "# 1. Check the Datatypes and convert relevant columns to Date and Time format"
   ]
  },
  {
   "cell_type": "code",
   "execution_count": 16,
   "metadata": {},
   "outputs": [],
   "source": [
    "#here i have changed the type object to datetime format"
   ]
  },
  {
   "cell_type": "code",
   "execution_count": 10,
   "metadata": {},
   "outputs": [],
   "source": [
    "data['Ticket Closed Time']=pd.to_datetime(data['Ticket Closed Time'],format = '%d-%m-%Y %H.%M')"
   ]
  },
  {
   "cell_type": "code",
   "execution_count": 12,
   "metadata": {},
   "outputs": [],
   "source": [
    "data['Created Time (Ticket)']=pd.to_datetime(data['Created Time (Ticket)'],format = '%d-%m-%Y %H.%M')"
   ]
  },
  {
   "cell_type": "code",
   "execution_count": 13,
   "metadata": {},
   "outputs": [],
   "source": [
    "data['First Response Time']=pd.to_datetime(data['First Response Time'],format = '%d-%m-%Y %H.%M')"
   ]
  },
  {
   "cell_type": "code",
   "execution_count": 15,
   "metadata": {},
   "outputs": [
    {
     "name": "stdout",
     "output_type": "stream",
     "text": [
      "<class 'pandas.core.frame.DataFrame'>\n",
      "RangeIndex: 476 entries, 0 to 475\n",
      "Data columns (total 8 columns):\n",
      " #   Column                 Non-Null Count  Dtype         \n",
      "---  ------                 --------------  -----         \n",
      " 0   Ticket Id              476 non-null    int64         \n",
      " 1   Student or WP          476 non-null    object        \n",
      " 2   Program Name           476 non-null    object        \n",
      " 3   Status (Ticket)        476 non-null    object        \n",
      " 4   Created Time (Ticket)  476 non-null    datetime64[ns]\n",
      " 5   Ticket Closed Time     468 non-null    datetime64[ns]\n",
      " 6   First Response Time    366 non-null    datetime64[ns]\n",
      " 7   Project Phase          476 non-null    object        \n",
      "dtypes: datetime64[ns](3), int64(1), object(4)\n",
      "memory usage: 22.4+ KB\n"
     ]
    }
   ],
   "source": [
    "data.info()"
   ]
  },
  {
   "cell_type": "markdown",
   "metadata": {},
   "source": [
    "# 2. Fill Missing Values with Appropriate Method"
   ]
  },
  {
   "cell_type": "code",
   "execution_count": 19,
   "metadata": {},
   "outputs": [
    {
     "data": {
      "text/plain": [
       "Ticket Id                  0\n",
       "Student or WP              0\n",
       "Program Name               0\n",
       "Status (Ticket)            0\n",
       "Created Time (Ticket)      0\n",
       "Ticket Closed Time         8\n",
       "First Response Time      110\n",
       "Project Phase              0\n",
       "dtype: int64"
      ]
     },
     "execution_count": 19,
     "metadata": {},
     "output_type": "execute_result"
    }
   ],
   "source": [
    "#by using isna().sum() we can find out the null values\n",
    "data.isna().sum()"
   ]
  },
  {
   "cell_type": "code",
   "execution_count": 20,
   "metadata": {},
   "outputs": [
    {
     "data": {
      "text/plain": [
       "Timedelta('0 days 07:37:52.950819672')"
      ]
     },
     "execution_count": 20,
     "metadata": {},
     "output_type": "execute_result"
    }
   ],
   "source": [
    "#  Finding the average time to give the first responce to the tickets.\n",
    "avg_first_res_time = np.mean(data[\"First Response Time\"]-data[\"Created Time (Ticket)\"])\n",
    "avg_first_res_time"
   ]
  },
  {
   "cell_type": "code",
   "execution_count": 21,
   "metadata": {},
   "outputs": [],
   "source": [
    " # timedelta is being used for adding time to Created Time (Ticket) column. \n",
    "from datetime import timedelta\n",
    "data[\"First Response Time\"].fillna((data[\"Created Time (Ticket)\"]\\\n",
    "                                    +timedelta(hours=7,minutes=37,seconds=52.9)),inplace=True)"
   ]
  },
  {
   "cell_type": "code",
   "execution_count": 23,
   "metadata": {},
   "outputs": [
    {
     "data": {
      "text/plain": [
       "Ticket Id                0\n",
       "Student or WP            0\n",
       "Program Name             0\n",
       "Status (Ticket)          0\n",
       "Created Time (Ticket)    0\n",
       "Ticket Closed Time       8\n",
       "First Response Time      0\n",
       "Project Phase            0\n",
       "dtype: int64"
      ]
     },
     "execution_count": 23,
     "metadata": {},
     "output_type": "execute_result"
    }
   ],
   "source": [
    "#by using is null also we can find out the null values in the dataframe\n",
    "data.isnull().sum()"
   ]
  },
  {
   "cell_type": "code",
   "execution_count": 24,
   "metadata": {},
   "outputs": [
    {
     "data": {
      "text/plain": [
       "Timedelta('0 days 20:59:28.461538461')"
      ]
     },
     "execution_count": 24,
     "metadata": {},
     "output_type": "execute_result"
    }
   ],
   "source": [
    "#finding the average time to close the tickets .\n",
    "avg_close_time = np.mean(data[\"Ticket Closed Time\"]-data[\"Created Time (Ticket)\"])\n",
    "avg_close_time"
   ]
  },
  {
   "cell_type": "code",
   "execution_count": 25,
   "metadata": {},
   "outputs": [],
   "source": [
    "#filling the null values with the average close time .\n",
    "data[\"Ticket Closed Time\"].fillna((data[\"Created Time (Ticket)\"]\\\n",
    "                                    +timedelta(hours=20,minutes=59,seconds=28.461538461)),inplace=True)"
   ]
  },
  {
   "cell_type": "code",
   "execution_count": 26,
   "metadata": {},
   "outputs": [
    {
     "data": {
      "text/plain": [
       "Ticket Id                0\n",
       "Student or WP            0\n",
       "Program Name             0\n",
       "Status (Ticket)          0\n",
       "Created Time (Ticket)    0\n",
       "Ticket Closed Time       0\n",
       "First Response Time      0\n",
       "Project Phase            0\n",
       "dtype: int64"
      ]
     },
     "execution_count": 26,
     "metadata": {},
     "output_type": "execute_result"
    }
   ],
   "source": [
    "data.isnull().sum()"
   ]
  },
  {
   "cell_type": "markdown",
   "metadata": {},
   "source": [
    "# 3 Finding total no of students and working people raising the tickets."
   ]
  },
  {
   "cell_type": "code",
   "execution_count": 28,
   "metadata": {},
   "outputs": [
    {
     "data": {
      "text/html": [
       "<div>\n",
       "<style scoped>\n",
       "    .dataframe tbody tr th:only-of-type {\n",
       "        vertical-align: middle;\n",
       "    }\n",
       "\n",
       "    .dataframe tbody tr th {\n",
       "        vertical-align: top;\n",
       "    }\n",
       "\n",
       "    .dataframe thead th {\n",
       "        text-align: right;\n",
       "    }\n",
       "</style>\n",
       "<table border=\"1\" class=\"dataframe\">\n",
       "  <thead>\n",
       "    <tr style=\"text-align: right;\">\n",
       "      <th></th>\n",
       "      <th>Student or WP</th>\n",
       "    </tr>\n",
       "  </thead>\n",
       "  <tbody>\n",
       "    <tr>\n",
       "      <th>Working Professionals</th>\n",
       "      <td>328</td>\n",
       "    </tr>\n",
       "    <tr>\n",
       "      <th>Student</th>\n",
       "      <td>148</td>\n",
       "    </tr>\n",
       "  </tbody>\n",
       "</table>\n",
       "</div>"
      ],
      "text/plain": [
       "                       Student or WP\n",
       "Working Professionals            328\n",
       "Student                          148"
      ]
     },
     "execution_count": 28,
     "metadata": {},
     "output_type": "execute_result"
    }
   ],
   "source": [
    "count=pd.DataFrame(data[\"Student or WP\"].value_counts())\n",
    "count"
   ]
  },
  {
   "cell_type": "code",
   "execution_count": 31,
   "metadata": {},
   "outputs": [
    {
     "data": {
      "image/png": "[encoded data removed]",
      "text/plain": [
       "<Figure size 432x288 with 1 Axes>"
      ]
     },
     "metadata": {
      "needs_background": "light"
     },
     "output_type": "display_data"
    },
    {
     "name": "stdout",
     "output_type": "stream",
     "text": [
      "From this plot we can easily say that working professionals are raising more tickets(queries)\n"
     ]
    }
   ],
   "source": [
    "fig,ax=plt.subplots()\n",
    "ax.bar(count.index,count[\"Student or WP\"])\n",
    "ax.set_ylabel(\"count of tickets\")\n",
    "plt.show()\n",
    "print(\"From this plot we can easily say that working professionals are raising more tickets(queries)\")"
   ]
  },
  {
   "cell_type": "code",
   "execution_count": 33,
   "metadata": {},
   "outputs": [
    {
     "data": {
      "image/png": "[encoded data removed]",
      "text/plain": [
       "<Figure size 432x288 with 1 Axes>"
      ]
     },
     "metadata": {
      "needs_background": "light"
     },
     "output_type": "display_data"
    }
   ],
   "source": [
    "sns.countplot(x=data[\"Student or WP\"])\n",
    "plt.show()"
   ]
  },
  {
   "cell_type": "markdown",
   "metadata": {},
   "source": [
    "# 4# Finding the average first responce time to the tickets"
   ]
  },
  {
   "cell_type": "code",
   "execution_count": 35,
   "metadata": {},
   "outputs": [
    {
     "name": "stdout",
     "output_type": "stream",
     "text": [
      "On an average the students are getting first respose in 0 days 07:37:52.939075630 \n"
     ]
    }
   ],
   "source": [
    "avg_first_res_time = np.mean(data[\"First Response Time\"]-data[\"Created Time (Ticket)\"])\n",
    "print(\"On an average the students are getting first respose in {} \".format(avg_first_res_time))\n"
   ]
  },
  {
   "cell_type": "markdown",
   "metadata": {},
   "source": [
    "# 5. Top 10 queries that took more time to resolve"
   ]
  },
  {
   "cell_type": "code",
   "execution_count": 36,
   "metadata": {},
   "outputs": [],
   "source": [
    "data[\"time_taken\"]=(data[\"Ticket Closed Time\"]-data[\"Created Time (Ticket)\"])"
   ]
  },
  {
   "cell_type": "code",
   "execution_count": 37,
   "metadata": {},
   "outputs": [],
   "source": [
    "top_10=data[\"time_taken\"].nlargest(10).index.tolist()"
   ]
  },
  {
   "cell_type": "code",
   "execution_count": 38,
   "metadata": {},
   "outputs": [
    {
     "data": {
      "text/html": [
       "<div>\n",
       "<style scoped>\n",
       "    .dataframe tbody tr th:only-of-type {\n",
       "        vertical-align: middle;\n",
       "    }\n",
       "\n",
       "    .dataframe tbody tr th {\n",
       "        vertical-align: top;\n",
       "    }\n",
       "\n",
       "    .dataframe thead th {\n",
       "        text-align: right;\n",
       "    }\n",
       "</style>\n",
       "<table border=\"1\" class=\"dataframe\">\n",
       "  <thead>\n",
       "    <tr style=\"text-align: right;\">\n",
       "      <th></th>\n",
       "      <th>Ticket Id</th>\n",
       "      <th>Student or WP</th>\n",
       "      <th>Program Name</th>\n",
       "      <th>Status (Ticket)</th>\n",
       "      <th>Project Phase</th>\n",
       "      <th>time_taken</th>\n",
       "    </tr>\n",
       "  </thead>\n",
       "  <tbody>\n",
       "    <tr>\n",
       "      <th>41</th>\n",
       "      <td>6525</td>\n",
       "      <td>Student</td>\n",
       "      <td>Fullstack Program</td>\n",
       "      <td>Closed</td>\n",
       "      <td>fullstack-phase-1</td>\n",
       "      <td>6 days 18:50:00</td>\n",
       "    </tr>\n",
       "    <tr>\n",
       "      <th>179</th>\n",
       "      <td>6748</td>\n",
       "      <td>Working Professionals</td>\n",
       "      <td>Backend Program</td>\n",
       "      <td>Closed</td>\n",
       "      <td>backend-phase-3</td>\n",
       "      <td>4 days 20:55:00</td>\n",
       "    </tr>\n",
       "    <tr>\n",
       "      <th>7</th>\n",
       "      <td>6405</td>\n",
       "      <td>Student</td>\n",
       "      <td>Fullstack Program</td>\n",
       "      <td>Closed</td>\n",
       "      <td>fullstack-phase-2</td>\n",
       "      <td>4 days 17:52:00</td>\n",
       "    </tr>\n",
       "    <tr>\n",
       "      <th>39</th>\n",
       "      <td>6505</td>\n",
       "      <td>Working Professionals</td>\n",
       "      <td>Backend Program</td>\n",
       "      <td>Closed</td>\n",
       "      <td>backend-phase1</td>\n",
       "      <td>4 days 14:16:00</td>\n",
       "    </tr>\n",
       "    <tr>\n",
       "      <th>225</th>\n",
       "      <td>6776</td>\n",
       "      <td>Working Professionals</td>\n",
       "      <td>Backend Program</td>\n",
       "      <td>Closed</td>\n",
       "      <td>fullstack-phase-1</td>\n",
       "      <td>4 days 11:13:00</td>\n",
       "    </tr>\n",
       "    <tr>\n",
       "      <th>65</th>\n",
       "      <td>6508</td>\n",
       "      <td>Working Professionals</td>\n",
       "      <td>Backend Program</td>\n",
       "      <td>Closed</td>\n",
       "      <td>system-issues</td>\n",
       "      <td>4 days 01:31:00</td>\n",
       "    </tr>\n",
       "    <tr>\n",
       "      <th>102</th>\n",
       "      <td>6633</td>\n",
       "      <td>Student</td>\n",
       "      <td>Fullstack Program</td>\n",
       "      <td>Closed</td>\n",
       "      <td>fullstack-phase-4</td>\n",
       "      <td>3 days 23:15:00</td>\n",
       "    </tr>\n",
       "    <tr>\n",
       "      <th>113</th>\n",
       "      <td>6642</td>\n",
       "      <td>Working Professionals</td>\n",
       "      <td>Backend Program</td>\n",
       "      <td>Closed</td>\n",
       "      <td>backend-phase2</td>\n",
       "      <td>3 days 23:14:00</td>\n",
       "    </tr>\n",
       "    <tr>\n",
       "      <th>9</th>\n",
       "      <td>6411</td>\n",
       "      <td>Working Professionals</td>\n",
       "      <td>Backend Program</td>\n",
       "      <td>Closed</td>\n",
       "      <td>backend-phase2</td>\n",
       "      <td>3 days 20:04:00</td>\n",
       "    </tr>\n",
       "    <tr>\n",
       "      <th>47</th>\n",
       "      <td>6548</td>\n",
       "      <td>Student</td>\n",
       "      <td>Fullstack Program</td>\n",
       "      <td>Closed</td>\n",
       "      <td>trial phase</td>\n",
       "      <td>3 days 08:37:00</td>\n",
       "    </tr>\n",
       "  </tbody>\n",
       "</table>\n",
       "</div>"
      ],
      "text/plain": [
       "     Ticket Id          Student or WP       Program Name Status (Ticket)  \\\n",
       "41        6525                Student  Fullstack Program          Closed   \n",
       "179       6748  Working Professionals    Backend Program          Closed   \n",
       "7         6405                Student  Fullstack Program          Closed   \n",
       "39        6505  Working Professionals    Backend Program          Closed   \n",
       "225       6776  Working Professionals    Backend Program          Closed   \n",
       "65        6508  Working Professionals    Backend Program          Closed   \n",
       "102       6633                Student  Fullstack Program          Closed   \n",
       "113       6642  Working Professionals    Backend Program          Closed   \n",
       "9         6411  Working Professionals    Backend Program          Closed   \n",
       "47        6548                Student  Fullstack Program          Closed   \n",
       "\n",
       "         Project Phase      time_taken  \n",
       "41   fullstack-phase-1 6 days 18:50:00  \n",
       "179    backend-phase-3 4 days 20:55:00  \n",
       "7    fullstack-phase-2 4 days 17:52:00  \n",
       "39      backend-phase1 4 days 14:16:00  \n",
       "225  fullstack-phase-1 4 days 11:13:00  \n",
       "65       system-issues 4 days 01:31:00  \n",
       "102  fullstack-phase-4 3 days 23:15:00  \n",
       "113     backend-phase2 3 days 23:14:00  \n",
       "9       backend-phase2 3 days 20:04:00  \n",
       "47         trial phase 3 days 08:37:00  "
      ]
     },
     "execution_count": 38,
     "metadata": {},
     "output_type": "execute_result"
    }
   ],
   "source": [
    "data.loc[top_10,[\"Ticket Id\",\"Student or WP\",\"Program Name\",\"Status (Ticket)\",\"Project Phase\",\"time_taken\"]]"
   ]
  },
  {
   "cell_type": "markdown",
   "metadata": {},
   "source": [
    "# 6. Which Phase of Project is having highest Queries?\n"
   ]
  },
  {
   "cell_type": "code",
   "execution_count": 39,
   "metadata": {},
   "outputs": [
    {
     "data": {
      "text/html": [
       "<div>\n",
       "<style scoped>\n",
       "    .dataframe tbody tr th:only-of-type {\n",
       "        vertical-align: middle;\n",
       "    }\n",
       "\n",
       "    .dataframe tbody tr th {\n",
       "        vertical-align: top;\n",
       "    }\n",
       "\n",
       "    .dataframe thead th {\n",
       "        text-align: right;\n",
       "    }\n",
       "</style>\n",
       "<table border=\"1\" class=\"dataframe\">\n",
       "  <thead>\n",
       "    <tr style=\"text-align: right;\">\n",
       "      <th></th>\n",
       "      <th>Project Phase</th>\n",
       "    </tr>\n",
       "  </thead>\n",
       "  <tbody>\n",
       "    <tr>\n",
       "      <th>fullstack-phase-2</th>\n",
       "      <td>96</td>\n",
       "    </tr>\n",
       "    <tr>\n",
       "      <th>fullstack-phase-1</th>\n",
       "      <td>88</td>\n",
       "    </tr>\n",
       "    <tr>\n",
       "      <th>system-issues</th>\n",
       "      <td>77</td>\n",
       "    </tr>\n",
       "    <tr>\n",
       "      <th>fellowship-phase-1</th>\n",
       "      <td>46</td>\n",
       "    </tr>\n",
       "    <tr>\n",
       "      <th>backend-phase2</th>\n",
       "      <td>45</td>\n",
       "    </tr>\n",
       "    <tr>\n",
       "      <th>trial phase</th>\n",
       "      <td>32</td>\n",
       "    </tr>\n",
       "    <tr>\n",
       "      <th>fullstack-phase-3</th>\n",
       "      <td>29</td>\n",
       "    </tr>\n",
       "    <tr>\n",
       "      <th>backend-phase1</th>\n",
       "      <td>29</td>\n",
       "    </tr>\n",
       "    <tr>\n",
       "      <th>backend-phase-3</th>\n",
       "      <td>17</td>\n",
       "    </tr>\n",
       "    <tr>\n",
       "      <th>fullstack-phase-4</th>\n",
       "      <td>17</td>\n",
       "    </tr>\n",
       "  </tbody>\n",
       "</table>\n",
       "</div>"
      ],
      "text/plain": [
       "                    Project Phase\n",
       "fullstack-phase-2              96\n",
       "fullstack-phase-1              88\n",
       "system-issues                  77\n",
       "fellowship-phase-1             46\n",
       "backend-phase2                 45\n",
       "trial phase                    32\n",
       "fullstack-phase-3              29\n",
       "backend-phase1                 29\n",
       "backend-phase-3                17\n",
       "fullstack-phase-4              17"
      ]
     },
     "execution_count": 39,
     "metadata": {},
     "output_type": "execute_result"
    }
   ],
   "source": [
    "phase_counts=pd.DataFrame(data[\"Project Phase\"].value_counts(ascending=False))\n",
    "phase_counts"
   ]
  },
  {
   "cell_type": "code",
   "execution_count": 40,
   "metadata": {},
   "outputs": [
    {
     "data": {
      "image/png": "[encoded data removed]",
      "text/plain": [
       "<Figure size 432x288 with 1 Axes>"
      ]
     },
     "metadata": {
      "needs_background": "light"
     },
     "output_type": "display_data"
    }
   ],
   "source": [
    "sns.countplot(y=data[\"Project Phase\"])\n",
    "plt.show()"
   ]
  },
  {
   "cell_type": "markdown",
   "metadata": {},
   "source": [
    "# 7. Which project phase queries are taking a long time to resolve?"
   ]
  },
  {
   "cell_type": "code",
   "execution_count": 41,
   "metadata": {},
   "outputs": [],
   "source": [
    "data['int_time_taken'] = data['time_taken'].values.astype(np.int64)\n",
    "\n",
    "average_time = data.groupby('Project Phase').mean()\n",
    "average_time['avg_time_taken'] = pd.to_timedelta(average_time['int_time_taken'])"
   ]
  },
  {
   "cell_type": "code",
   "execution_count": 43,
   "metadata": {},
   "outputs": [
    {
     "data": {
      "text/html": [
       "<div>\n",
       "<style scoped>\n",
       "    .dataframe tbody tr th:only-of-type {\n",
       "        vertical-align: middle;\n",
       "    }\n",
       "\n",
       "    .dataframe tbody tr th {\n",
       "        vertical-align: top;\n",
       "    }\n",
       "\n",
       "    .dataframe thead th {\n",
       "        text-align: right;\n",
       "    }\n",
       "</style>\n",
       "<table border=\"1\" class=\"dataframe\">\n",
       "  <thead>\n",
       "    <tr style=\"text-align: right;\">\n",
       "      <th></th>\n",
       "      <th>avg_time_taken</th>\n",
       "    </tr>\n",
       "    <tr>\n",
       "      <th>Project Phase</th>\n",
       "      <th></th>\n",
       "    </tr>\n",
       "  </thead>\n",
       "  <tbody>\n",
       "    <tr>\n",
       "      <th>fullstack-phase-4</th>\n",
       "      <td>1 days 08:54:58.144796352</td>\n",
       "    </tr>\n",
       "    <tr>\n",
       "      <th>backend-phase-3</th>\n",
       "      <td>1 days 01:05:56.470588235</td>\n",
       "    </tr>\n",
       "    <tr>\n",
       "      <th>backend-phase1</th>\n",
       "      <td>0 days 22:33:10.344827586</td>\n",
       "    </tr>\n",
       "    <tr>\n",
       "      <th>fullstack-phase-1</th>\n",
       "      <td>0 days 22:27:50.777972022</td>\n",
       "    </tr>\n",
       "    <tr>\n",
       "      <th>fullstack-phase-2</th>\n",
       "      <td>0 days 21:28:34.014423062</td>\n",
       "    </tr>\n",
       "    <tr>\n",
       "      <th>fellowship-phase-1</th>\n",
       "      <td>0 days 20:41:52.792642130</td>\n",
       "    </tr>\n",
       "    <tr>\n",
       "      <th>backend-phase2</th>\n",
       "      <td>0 days 20:10:29.333333333</td>\n",
       "    </tr>\n",
       "    <tr>\n",
       "      <th>trial phase</th>\n",
       "      <td>0 days 18:50:09.375000</td>\n",
       "    </tr>\n",
       "    <tr>\n",
       "      <th>system-issues</th>\n",
       "      <td>0 days 18:12:20.219780207</td>\n",
       "    </tr>\n",
       "    <tr>\n",
       "      <th>fullstack-phase-3</th>\n",
       "      <td>0 days 15:27:47.586206896</td>\n",
       "    </tr>\n",
       "  </tbody>\n",
       "</table>\n",
       "</div>"
      ],
      "text/plain": [
       "                              avg_time_taken\n",
       "Project Phase                               \n",
       "fullstack-phase-4  1 days 08:54:58.144796352\n",
       "backend-phase-3    1 days 01:05:56.470588235\n",
       "backend-phase1     0 days 22:33:10.344827586\n",
       "fullstack-phase-1  0 days 22:27:50.777972022\n",
       "fullstack-phase-2  0 days 21:28:34.014423062\n",
       "fellowship-phase-1 0 days 20:41:52.792642130\n",
       "backend-phase2     0 days 20:10:29.333333333\n",
       "trial phase           0 days 18:50:09.375000\n",
       "system-issues      0 days 18:12:20.219780207\n",
       "fullstack-phase-3  0 days 15:27:47.586206896"
      ]
     },
     "execution_count": 43,
     "metadata": {},
     "output_type": "execute_result"
    }
   ],
   "source": [
    "phase_avg_time=pd.DataFrame(average_time[\"avg_time_taken\"].nlargest(100))\n",
    "phase_avg_time"
   ]
  },
  {
   "cell_type": "markdown",
   "metadata": {},
   "source": [
    "# 8. On which day highest queries were resolved?\n"
   ]
  },
  {
   "cell_type": "code",
   "execution_count": 44,
   "metadata": {},
   "outputs": [
    {
     "data": {
      "text/plain": [
       "2021-05-19 23:05:00    6\n",
       "2021-05-18 18:47:00    4\n",
       "2021-05-18 19:14:00    4\n",
       "2021-05-17 22:19:00    4\n",
       "2021-05-17 11:40:00    4\n",
       "Name: Ticket Closed Time, dtype: int64"
      ]
     },
     "execution_count": 44,
     "metadata": {},
     "output_type": "execute_result"
    }
   ],
   "source": [
    "data[\"Ticket Closed Time\"].value_counts(ascending=False).head(5)"
   ]
  },
  {
   "cell_type": "code",
   "execution_count": 45,
   "metadata": {},
   "outputs": [
    {
     "name": "stdout",
     "output_type": "stream",
     "text": [
      "WE can say that on 19-05-2021 more quries were resolved\n"
     ]
    }
   ],
   "source": [
    "print(\"WE can say that on 19-05-2021 more quries were resolved\")"
   ]
  },
  {
   "cell_type": "markdown",
   "metadata": {},
   "source": [
    "# 9. Which phase queries are easier to resolve?\n"
   ]
  },
  {
   "cell_type": "code",
   "execution_count": 46,
   "metadata": {},
   "outputs": [],
   "source": [
    "phase_avg_time=pd.DataFrame(average_time[\"avg_time_taken\"].nsmallest(100))"
   ]
  },
  {
   "cell_type": "code",
   "execution_count": 48,
   "metadata": {},
   "outputs": [
    {
     "data": {
      "text/html": [
       "<div>\n",
       "<style scoped>\n",
       "    .dataframe tbody tr th:only-of-type {\n",
       "        vertical-align: middle;\n",
       "    }\n",
       "\n",
       "    .dataframe tbody tr th {\n",
       "        vertical-align: top;\n",
       "    }\n",
       "\n",
       "    .dataframe thead th {\n",
       "        text-align: right;\n",
       "    }\n",
       "</style>\n",
       "<table border=\"1\" class=\"dataframe\">\n",
       "  <thead>\n",
       "    <tr style=\"text-align: right;\">\n",
       "      <th></th>\n",
       "      <th>avg_time_taken</th>\n",
       "    </tr>\n",
       "    <tr>\n",
       "      <th>Project Phase</th>\n",
       "      <th></th>\n",
       "    </tr>\n",
       "  </thead>\n",
       "  <tbody>\n",
       "    <tr>\n",
       "      <th>fullstack-phase-3</th>\n",
       "      <td>0 days 15:27:47.586206896</td>\n",
       "    </tr>\n",
       "    <tr>\n",
       "      <th>system-issues</th>\n",
       "      <td>0 days 18:12:20.219780207</td>\n",
       "    </tr>\n",
       "    <tr>\n",
       "      <th>trial phase</th>\n",
       "      <td>0 days 18:50:09.375000</td>\n",
       "    </tr>\n",
       "    <tr>\n",
       "      <th>backend-phase2</th>\n",
       "      <td>0 days 20:10:29.333333333</td>\n",
       "    </tr>\n",
       "    <tr>\n",
       "      <th>fellowship-phase-1</th>\n",
       "      <td>0 days 20:41:52.792642130</td>\n",
       "    </tr>\n",
       "    <tr>\n",
       "      <th>fullstack-phase-2</th>\n",
       "      <td>0 days 21:28:34.014423062</td>\n",
       "    </tr>\n",
       "    <tr>\n",
       "      <th>fullstack-phase-1</th>\n",
       "      <td>0 days 22:27:50.777972022</td>\n",
       "    </tr>\n",
       "    <tr>\n",
       "      <th>backend-phase1</th>\n",
       "      <td>0 days 22:33:10.344827586</td>\n",
       "    </tr>\n",
       "    <tr>\n",
       "      <th>backend-phase-3</th>\n",
       "      <td>1 days 01:05:56.470588235</td>\n",
       "    </tr>\n",
       "    <tr>\n",
       "      <th>fullstack-phase-4</th>\n",
       "      <td>1 days 08:54:58.144796352</td>\n",
       "    </tr>\n",
       "  </tbody>\n",
       "</table>\n",
       "</div>"
      ],
      "text/plain": [
       "                              avg_time_taken\n",
       "Project Phase                               \n",
       "fullstack-phase-3  0 days 15:27:47.586206896\n",
       "system-issues      0 days 18:12:20.219780207\n",
       "trial phase           0 days 18:50:09.375000\n",
       "backend-phase2     0 days 20:10:29.333333333\n",
       "fellowship-phase-1 0 days 20:41:52.792642130\n",
       "fullstack-phase-2  0 days 21:28:34.014423062\n",
       "fullstack-phase-1  0 days 22:27:50.777972022\n",
       "backend-phase1     0 days 22:33:10.344827586\n",
       "backend-phase-3    1 days 01:05:56.470588235\n",
       "fullstack-phase-4  1 days 08:54:58.144796352"
      ]
     },
     "execution_count": 48,
     "metadata": {},
     "output_type": "execute_result"
    }
   ],
   "source": [
    "phase_avg_time"
   ]
  },
  {
   "cell_type": "markdown",
   "metadata": {},
   "source": [
    "# 10. Provide Conclusion for your analysis."
   ]
  },
  {
   "cell_type": "code",
   "execution_count": null,
   "metadata": {},
   "outputs": [],
   "source": [
    "1. Working professionals are creating more tickets comparing to the students\n",
    "2. If any one Created tickets its get resloved by with in 7 hours in 37 mins\n",
    "3. from negligece of employees some tickets to get resloved its took time of 6days. it is the highest time to get resloved ticket\n",
    "4. Many people either working professionals or students has more raised tickets of fullstack-phase-2\n",
    "5. fullstack-phase-4 took more time to reslove ticket\n",
    "6. from the whole data points the highest resloved tickets is 6 per day\n",
    "7. fullstack-phase-3 is easier to reslove the tickets"
   ]
  },
  {
   "cell_type": "code",
   "execution_count": null,
   "metadata": {},
   "outputs": [],
   "source": []
  },
  {
   "cell_type": "code",
   "execution_count": null,
   "metadata": {},
   "outputs": [],
   "source": []
  }
 ],
 "metadata": {
  "kernelspec": {
   "display_name": "Python 3",
   "language": "python",
   "name": "python3"
  },
  "language_info": {
   "codemirror_mode": {
    "name": "ipython",
    "version": 3
   },
   "file_extension": ".py",
   "mimetype": "text/x-python",
   "name": "python",
   "nbconvert_exporter": "python",
   "pygments_lexer": "ipython3",
   "version": "3.8.5"
  }
 },
 "nbformat": 4,
 "nbformat_minor": 4
}
